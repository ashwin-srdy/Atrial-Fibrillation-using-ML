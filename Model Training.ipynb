{
 "cells": [
  {
   "cell_type": "markdown",
   "id": "b6824a70",
   "metadata": {},
   "source": [
    "## importing libs"
   ]
  },
  {
   "cell_type": "code",
   "execution_count": 24,
   "id": "f6d5a93d",
   "metadata": {},
   "outputs": [],
   "source": [
    "import xgboost as xgb\n",
    "from sklearn.metrics import mean_squared_error, r2_score,mean_absolute_error\n",
    "from sklearn.linear_model import LogisticRegression\n",
    "from sklearn.ensemble import RandomForestRegressor\n",
    "from sklearn.metrics import accuracy_score\n",
    "from sklearn.feature_selection import SelectKBest,f_classif\n",
    "from sklearn.model_selection import train_test_split\n",
    "import seaborn as sns\n",
    "import matplotlib.pyplot as plt\n",
    "import pandas as pd\n",
    "import numpy as np"
   ]
  },
  {
   "cell_type": "code",
   "execution_count": 4,
   "id": "8f537b7e",
   "metadata": {},
   "outputs": [],
   "source": [
    "xx_noise = pd.read_csv('pro_data_with_noise.csv')\n",
    "xx_no_noise = pd.read_csv('pro_data_no_noise.csv')"
   ]
  },
  {
   "cell_type": "markdown",
   "id": "49a09d84",
   "metadata": {},
   "source": [
    "## Removing null values"
   ]
  },
  {
   "cell_type": "code",
   "execution_count": 15,
   "id": "98ddffb8",
   "metadata": {},
   "outputs": [],
   "source": [
    "# Replacing null values with mean\n",
    "for i in xx_noise.columns[:-1]:\n",
    "    xx_noise[i].fillna(\n",
    "        value = pd.to_numeric(\n",
    "                                xx_noise[i]\n",
    "                             ).mean()\n",
    "        ,inplace=True\n",
    "    )"
   ]
  },
  {
   "cell_type": "code",
   "execution_count": 16,
   "id": "e8753ce8",
   "metadata": {},
   "outputs": [],
   "source": [
    "# Replacing null values with mean\n",
    "for i in xx_no_noise.columns[:-1]:\n",
    "    xx_no_noise[i].fillna(\n",
    "        value = pd.to_numeric(\n",
    "                                xx_no_noise[i]\n",
    "                             ).mean()\n",
    "        ,inplace=True\n",
    "    )"
   ]
  },
  {
   "cell_type": "code",
   "execution_count": 17,
   "id": "adc24c1b",
   "metadata": {},
   "outputs": [],
   "source": [
    "# x: predictor variables\n",
    "# y: predicted variable\n",
    "\n",
    "x_n = xx_noise.iloc[:,:13]\n",
    "y_n = xx_noise.iloc[:,-1:]"
   ]
  },
  {
   "cell_type": "code",
   "execution_count": 18,
   "id": "a5221176",
   "metadata": {},
   "outputs": [],
   "source": [
    "# Label Encoding\n",
    "\n",
    "y_n=y_n.replace('N',0)\n",
    "y_n=y_n.replace('A',1)"
   ]
  },
  {
   "cell_type": "code",
   "execution_count": 19,
   "id": "5879faaa",
   "metadata": {},
   "outputs": [],
   "source": [
    "# x: predictor variables\n",
    "# y: predicted variable\n",
    "\n",
    "x = xx_no_noise.iloc[:,:13]\n",
    "y = xx_no_noise.iloc[:,-1:]"
   ]
  },
  {
   "cell_type": "code",
   "execution_count": 20,
   "id": "d3794e07",
   "metadata": {},
   "outputs": [],
   "source": [
    "# Label Encoding\n",
    "\n",
    "y=y.replace('N',0)\n",
    "y=y.replace('A',1)"
   ]
  },
  {
   "cell_type": "markdown",
   "id": "9c23c455",
   "metadata": {},
   "source": [
    "# Model with no noise data"
   ]
  },
  {
   "cell_type": "code",
   "execution_count": 32,
   "id": "5e705ea8",
   "metadata": {},
   "outputs": [],
   "source": [
    "x_train,x_test,y_train,y_test=train_test_split(x,y,test_size=0.2)"
   ]
  },
  {
   "cell_type": "markdown",
   "id": "46644562",
   "metadata": {},
   "source": [
    "ANOVA based feature selection process"
   ]
  },
  {
   "cell_type": "code",
   "execution_count": 33,
   "id": "f1bb4729",
   "metadata": {},
   "outputs": [
    {
     "name": "stderr",
     "output_type": "stream",
     "text": [
      "C:\\Users\\ashwi\\anaconda3\\lib\\site-packages\\sklearn\\utils\\validation.py:72: DataConversionWarning: A column-vector y was passed when a 1d array was expected. Please change the shape of y to (n_samples, ), for example using ravel().\n",
      "  return f(**kwargs)\n"
     ]
    }
   ],
   "source": [
    "\n",
    "# configure to select all features\n",
    "fs = SelectKBest(score_func=f_classif, k='all')\n",
    "# learn relationship from training data\n",
    "fs.fit(x_train, y_train)\n",
    "# transform train input data\n",
    "X_train_fs = fs.transform(x_train)\n",
    "# transform test input data\n",
    "X_test_fs = fs.transform(x_test)"
   ]
  },
  {
   "cell_type": "code",
   "execution_count": 42,
   "id": "eba3e349",
   "metadata": {},
   "outputs": [],
   "source": [
    "fields = xx_no_noise.columns"
   ]
  },
  {
   "cell_type": "code",
   "execution_count": 44,
   "id": "0703e11d",
   "metadata": {},
   "outputs": [
    {
     "name": "stdout",
     "output_type": "stream",
     "text": [
      "Feature bpm: 4.334759\n",
      "Feature ibi: 23.438850\n",
      "Feature sdnn: 42.221171\n",
      "Feature sdsd: 0.689460\n",
      "Feature rmssd: 20.921415\n",
      "Feature pnn20: 133.139692\n",
      "Feature pnn50: 99.131266\n",
      "Feature hr_mad: 17.881803\n",
      "Feature sd1: 21.515655\n",
      "Feature sd2: 125.184455\n",
      "Feature s: 34.000893\n",
      "Feature sd1/sd2: 2.853913\n",
      "Feature breathingrate: 9.253781\n"
     ]
    },
    {
     "data": {
      "image/png": "[encoded data removed]",
      "text/plain": [
       "<Figure size 432x288 with 1 Axes>"
      ]
     },
     "metadata": {
      "needs_background": "light"
     },
     "output_type": "display_data"
    }
   ],
   "source": [
    "\n",
    "# what are scores for the features\n",
    "for i in range(len(fs.scores_)):\n",
    "    print('Feature %s: %f' % (fields[i], fs.scores_[i]))\n",
    "# plot the scores\n",
    "plt.bar([fields[i] for i in range(len(fs.scores_))], fs.scores_)\n",
    "plt.show()"
   ]
  },
  {
   "cell_type": "markdown",
   "id": "c88616b5",
   "metadata": {},
   "source": [
    "Model training"
   ]
  },
  {
   "cell_type": "code",
   "execution_count": 60,
   "id": "d66b99f1",
   "metadata": {},
   "outputs": [
    {
     "name": "stdout",
     "output_type": "stream",
     "text": [
      "Accuracy: 88.24\n",
      "MSE: 0.3429971702850177\n"
     ]
    },
    {
     "name": "stderr",
     "output_type": "stream",
     "text": [
      "C:\\Users\\ashwi\\anaconda3\\lib\\site-packages\\sklearn\\utils\\validation.py:72: DataConversionWarning: A column-vector y was passed when a 1d array was expected. Please change the shape of y to (n_samples, ), for example using ravel().\n",
      "  return f(**kwargs)\n"
     ]
    }
   ],
   "source": [
    "# Without ANOVA features\n",
    "\n",
    "model = LogisticRegression(solver='liblinear')\n",
    "model.fit(x_train, y_train)\n",
    "# evaluate the model\n",
    "yhat = model.predict(x_test)\n",
    "# evaluate predictions\n",
    "accuracy = accuracy_score(y_test, yhat)\n",
    "print('Accuracy: %.2f' % (accuracy*100))\n",
    "y3_pred=model.predict(x_test)\n",
    "print('MSE:',np.sqrt(mean_squared_error(y_test,y3_pred)))"
   ]
  },
  {
   "cell_type": "code",
   "execution_count": 61,
   "id": "99cffd59",
   "metadata": {},
   "outputs": [
    {
     "name": "stdout",
     "output_type": "stream",
     "text": [
      "Accuracy: 88.24\n",
      "MSE: 0.3429971702850177\n"
     ]
    },
    {
     "name": "stderr",
     "output_type": "stream",
     "text": [
      "C:\\Users\\ashwi\\anaconda3\\lib\\site-packages\\sklearn\\utils\\validation.py:72: DataConversionWarning: A column-vector y was passed when a 1d array was expected. Please change the shape of y to (n_samples, ), for example using ravel().\n",
      "  return f(**kwargs)\n"
     ]
    }
   ],
   "source": [
    "# With ANOVA features\n",
    "\n",
    "model = LogisticRegression(solver='liblinear')\n",
    "model.fit(X_train_fs, y_train)\n",
    "# evaluate the model\n",
    "yhat = model.predict(X_test_fs)\n",
    "# evaluate predictions\n",
    "accuracy = accuracy_score(y_test, yhat)\n",
    "print('Accuracy: %.2f' % (accuracy*100))\n",
    "y3_pred=model.predict(X_test_fs)\n",
    "print('MSE:',np.sqrt(mean_squared_error(y_test,y3_pred)))"
   ]
  },
  {
   "cell_type": "code",
   "execution_count": 47,
   "id": "c6ded49d",
   "metadata": {},
   "outputs": [
    {
     "name": "stderr",
     "output_type": "stream",
     "text": [
      "<ipython-input-47-79c4b81de812>:4: DataConversionWarning: A column-vector y was passed when a 1d array was expected. Please change the shape of y to (n_samples,), for example using ravel().\n",
      "  model.fit(X_train_fs, y_train)\n"
     ]
    },
    {
     "name": "stdout",
     "output_type": "stream",
     "text": [
      "MSE: 0.2351088761493053\n",
      "Accuracy: 42.44\n"
     ]
    }
   ],
   "source": [
    "# With ANOVA features\n",
    "\n",
    "model = RandomForestRegressor()\n",
    "model.fit(X_train_fs, y_train)\n",
    "# evaluate the model\n",
    "yhat = model.predict(X_test_fs)\n",
    "# evaluate predictions\n",
    "y3_pred=model.predict(X_test_fs)\n",
    "print('MSE:',np.sqrt(mean_squared_error(y_test,y3_pred)))\n",
    "print('Accuracy: %.2f' % (model.score(X_test_fs,y_test)*100))"
   ]
  },
  {
   "cell_type": "code",
   "execution_count": 48,
   "id": "11dfb891",
   "metadata": {},
   "outputs": [
    {
     "name": "stdout",
     "output_type": "stream",
     "text": [
      "model score: 34.95272969347839\n",
      "MSE: 0.2499237818806562\n"
     ]
    }
   ],
   "source": [
    "import xgboost as xgb\n",
    "from sklearn.metrics import mean_squared_error, r2_score,mean_absolute_error\n",
    "\n",
    "xg_reg = xgb.XGBRegressor()\n",
    "xg_reg.fit(X_train_fs,y_train)\n",
    "print('model score:',xg_reg.score(X_test_fs,y_test)*100)\n",
    "y3_pred=xg_reg.predict(X_test_fs)\n",
    "print('MSE:',np.sqrt(mean_squared_error(y_test,y3_pred)))"
   ]
  },
  {
   "cell_type": "markdown",
   "id": "2510e414",
   "metadata": {},
   "source": [
    "# Model with noise data"
   ]
  },
  {
   "cell_type": "code",
   "execution_count": 49,
   "id": "6d174ab4",
   "metadata": {},
   "outputs": [],
   "source": [
    "x_trainn,x_testn,y_trainn,y_testn=train_test_split(x_n,y_n,test_size=0.2)"
   ]
  },
  {
   "cell_type": "markdown",
   "id": "504a2fdf",
   "metadata": {},
   "source": [
    "ANOVA based feature selection process"
   ]
  },
  {
   "cell_type": "code",
   "execution_count": 50,
   "id": "5f0593fa",
   "metadata": {},
   "outputs": [
    {
     "name": "stderr",
     "output_type": "stream",
     "text": [
      "C:\\Users\\ashwi\\anaconda3\\lib\\site-packages\\sklearn\\utils\\validation.py:72: DataConversionWarning: A column-vector y was passed when a 1d array was expected. Please change the shape of y to (n_samples, ), for example using ravel().\n",
      "  return f(**kwargs)\n"
     ]
    }
   ],
   "source": [
    "\n",
    "# configure to select all features\n",
    "fs = SelectKBest(score_func=f_classif, k='all')\n",
    "# learn relationship from training data\n",
    "fs.fit(x_trainn, y_trainn)\n",
    "# transform train input data\n",
    "X_train_fsn = fs.transform(x_trainn)\n",
    "# transform test input data\n",
    "X_test_fsn = fs.transform(x_testn)"
   ]
  },
  {
   "cell_type": "code",
   "execution_count": 51,
   "id": "5a59b33b",
   "metadata": {},
   "outputs": [],
   "source": [
    "fields = xx_no_noise.columns"
   ]
  },
  {
   "cell_type": "code",
   "execution_count": 52,
   "id": "fbda9998",
   "metadata": {},
   "outputs": [
    {
     "name": "stdout",
     "output_type": "stream",
     "text": [
      "Feature bpm: 4.679916\n",
      "Feature ibi: 19.876747\n",
      "Feature sdnn: 41.157952\n",
      "Feature sdsd: 155.005902\n",
      "Feature rmssd: 20.318324\n",
      "Feature pnn20: 132.806615\n",
      "Feature pnn50: 99.026447\n",
      "Feature hr_mad: 13.785418\n",
      "Feature sd1: 24.635081\n",
      "Feature sd2: 120.446535\n",
      "Feature s: 34.473955\n",
      "Feature sd1/sd2: 3.539097\n",
      "Feature breathingrate: 8.451687\n"
     ]
    },
    {
     "data": {
      "image/png": "[encoded data removed]",
      "text/plain": [
       "<Figure size 432x288 with 1 Axes>"
      ]
     },
     "metadata": {
      "needs_background": "light"
     },
     "output_type": "display_data"
    }
   ],
   "source": [
    "\n",
    "# what are scores for the features\n",
    "for i in range(len(fs.scores_)):\n",
    "    print('Feature %s: %f' % (fields[i], fs.scores_[i]))\n",
    "# plot the scores\n",
    "plt.bar([fields[i] for i in range(len(fs.scores_))], fs.scores_)\n",
    "plt.show()"
   ]
  },
  {
   "cell_type": "markdown",
   "id": "4b331f78",
   "metadata": {},
   "source": [
    "Model training"
   ]
  },
  {
   "cell_type": "code",
   "execution_count": 79,
   "id": "5ec813ae",
   "metadata": {},
   "outputs": [
    {
     "name": "stdout",
     "output_type": "stream",
     "text": [
      "Accuracy: 88.29\n",
      "MSE: 0.34226138716316973\n"
     ]
    },
    {
     "name": "stderr",
     "output_type": "stream",
     "text": [
      "<ipython-input-79-89e337c4516d>:4: DataConversionWarning: A column-vector y was passed when a 1d array was expected. Please change the shape of y to (n_samples, ), for example using ravel().\n",
      "  knn.fit(x_trainn, y_trainn)\n"
     ]
    }
   ],
   "source": [
    "from sklearn.neighbors import KNeighborsClassifier\n",
    "\n",
    "knn = KNeighborsClassifier()\n",
    "knn.fit(x_trainn, y_trainn)\n",
    "# evaluate the model\n",
    "yhat = knn.predict(x_testn)\n",
    "# evaluate predictions\n",
    "accuracy = accuracy_score(y_testn, yhat)\n",
    "print('Accuracy: %.2f' % (accuracy*100))\n",
    "y3_predn=knn.predict(x_testn)\n",
    "print('MSE:',np.sqrt(mean_squared_error(y_testn,y3_predn)))"
   ]
  },
  {
   "cell_type": "code",
   "execution_count": 62,
   "id": "944bb730",
   "metadata": {},
   "outputs": [
    {
     "name": "stdout",
     "output_type": "stream",
     "text": [
      "Accuracy: 88.29\n",
      "MSE: 0.34226138716316973\n"
     ]
    },
    {
     "name": "stderr",
     "output_type": "stream",
     "text": [
      "C:\\Users\\ashwi\\anaconda3\\lib\\site-packages\\sklearn\\utils\\validation.py:72: DataConversionWarning: A column-vector y was passed when a 1d array was expected. Please change the shape of y to (n_samples, ), for example using ravel().\n",
      "  return f(**kwargs)\n"
     ]
    }
   ],
   "source": [
    "# Without ANOVA features\n",
    "\n",
    "model = LogisticRegression(solver='liblinear')\n",
    "model.fit(x_trainn, y_trainn)\n",
    "# evaluate the model\n",
    "yhat = model.predict(x_testn)\n",
    "# evaluate predictions\n",
    "accuracy = accuracy_score(y_testn, yhat)\n",
    "print('Accuracy: %.2f' % (accuracy*100))\n",
    "y3_predn=model.predict(x_testn)\n",
    "print('MSE:',np.sqrt(mean_squared_error(y_testn,y3_predn)))"
   ]
  },
  {
   "cell_type": "code",
   "execution_count": 63,
   "id": "17a20fa8",
   "metadata": {},
   "outputs": [
    {
     "name": "stdout",
     "output_type": "stream",
     "text": [
      "Accuracy: 88.29\n",
      "MSE: 0.34226138716316973\n"
     ]
    },
    {
     "name": "stderr",
     "output_type": "stream",
     "text": [
      "C:\\Users\\ashwi\\anaconda3\\lib\\site-packages\\sklearn\\utils\\validation.py:72: DataConversionWarning: A column-vector y was passed when a 1d array was expected. Please change the shape of y to (n_samples, ), for example using ravel().\n",
      "  return f(**kwargs)\n"
     ]
    }
   ],
   "source": [
    "# With ANOVA features\n",
    "\n",
    "model = LogisticRegression(solver='liblinear')\n",
    "model.fit(X_train_fsn, y_trainn)\n",
    "# evaluate the model\n",
    "yhat = model.predict(X_test_fsn)\n",
    "# evaluate predictions\n",
    "accuracy = accuracy_score(y_testn, yhat)\n",
    "print('Accuracy: %.2f' % (accuracy*100))\n",
    "y3_predn=model.predict(X_test_fsn)\n",
    "print('MSE:',np.sqrt(mean_squared_error(y_testn,y3_predn)))"
   ]
  },
  {
   "cell_type": "code",
   "execution_count": 58,
   "id": "7d8114f0",
   "metadata": {},
   "outputs": [
    {
     "name": "stderr",
     "output_type": "stream",
     "text": [
      "<ipython-input-58-da525140ac58>:4: DataConversionWarning: A column-vector y was passed when a 1d array was expected. Please change the shape of y to (n_samples,), for example using ravel().\n",
      "  model.fit(X_train_fsn, y_trainn)\n"
     ]
    },
    {
     "name": "stdout",
     "output_type": "stream",
     "text": [
      "MSE: 0.34226138716316973\n",
      "Accuracy: 42.01\n"
     ]
    }
   ],
   "source": [
    "# With ANOVA features\n",
    "\n",
    "model = RandomForestRegressor()\n",
    "model.fit(X_train_fsn, y_trainn)\n",
    "# evaluate the model\n",
    "yhat = model.predict(X_test_fsn)\n",
    "# evaluate predictions\n",
    "y3_pred=model.predict(X_test_fsn)\n",
    "print('MSE:',np.sqrt(mean_squared_error(y_testn,y3_predn)))\n",
    "print('Accuracy: %.2f' % (model.score(X_test_fsn,y_testn)*100))"
   ]
  },
  {
   "cell_type": "code",
   "execution_count": 59,
   "id": "387b3986",
   "metadata": {},
   "outputs": [
    {
     "name": "stdout",
     "output_type": "stream",
     "text": [
      "model score: 35.58700168993588\n",
      "MSE: 0.2525406019492291\n"
     ]
    }
   ],
   "source": [
    "xg_reg = xgb.XGBRegressor()\n",
    "xg_reg.fit(X_train_fsn,y_trainn)\n",
    "print('model score:',xg_reg.score(X_test_fsn,y_testn)*100)\n",
    "y3_predn=xg_reg.predict(X_test_fsn)\n",
    "print('MSE:',np.sqrt(mean_squared_error(y_testn,y3_predn)))"
   ]
  },
  {
   "cell_type": "markdown",
   "id": "68a1f4af",
   "metadata": {},
   "source": [
    "## Building model with full data including noise"
   ]
  },
  {
   "cell_type": "code",
   "execution_count": 64,
   "id": "5e535718",
   "metadata": {},
   "outputs": [
    {
     "name": "stderr",
     "output_type": "stream",
     "text": [
      "C:\\Users\\ashwi\\anaconda3\\lib\\site-packages\\sklearn\\utils\\validation.py:72: DataConversionWarning: A column-vector y was passed when a 1d array was expected. Please change the shape of y to (n_samples, ), for example using ravel().\n",
      "  return f(**kwargs)\n"
     ]
    }
   ],
   "source": [
    "\n",
    "# configure to select all features\n",
    "fs = SelectKBest(score_func=f_classif, k='all')\n",
    "# learn relationship from training data\n",
    "fs.fit(x_n, y_n)\n",
    "# transform train input data\n",
    "X_train_fs = fs.transform(x_n)"
   ]
  },
  {
   "cell_type": "code",
   "execution_count": 65,
   "id": "89b37e69",
   "metadata": {},
   "outputs": [
    {
     "name": "stderr",
     "output_type": "stream",
     "text": [
      "C:\\Users\\ashwi\\anaconda3\\lib\\site-packages\\sklearn\\utils\\validation.py:72: DataConversionWarning: A column-vector y was passed when a 1d array was expected. Please change the shape of y to (n_samples, ), for example using ravel().\n",
      "  return f(**kwargs)\n"
     ]
    },
    {
     "data": {
      "text/plain": [
       "LogisticRegression(solver='liblinear')"
      ]
     },
     "execution_count": 65,
     "metadata": {},
     "output_type": "execute_result"
    }
   ],
   "source": [
    "# With ANOVA features\n",
    "\n",
    "model = LogisticRegression(solver='liblinear')\n",
    "model.fit(X_train_fs, y_n)"
   ]
  },
  {
   "cell_type": "markdown",
   "id": "22839ba0",
   "metadata": {},
   "source": [
    "## Saving model"
   ]
  },
  {
   "cell_type": "code",
   "execution_count": 74,
   "id": "932ad128",
   "metadata": {},
   "outputs": [],
   "source": [
    "import pickle"
   ]
  },
  {
   "cell_type": "code",
   "execution_count": 76,
   "id": "2ce1f746",
   "metadata": {},
   "outputs": [],
   "source": [
    "pickle.dump('model',open('model.pkl','wb'))"
   ]
  },
  {
   "cell_type": "code",
   "execution_count": null,
   "id": "77d1086a",
   "metadata": {},
   "outputs": [],
   "source": []
  }
 ],
 "metadata": {
  "kernelspec": {
   "display_name": "Python 3",
   "language": "python",
   "name": "python3"
  },
  "language_info": {
   "codemirror_mode": {
    "name": "ipython",
    "version": 3
   },
   "file_extension": ".py",
   "mimetype": "text/x-python",
   "name": "python",
   "nbconvert_exporter": "python",
   "pygments_lexer": "ipython3",
   "version": "3.8.5"
  }
 },
 "nbformat": 4,
 "nbformat_minor": 5
}
